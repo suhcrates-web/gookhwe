{
 "cells": [
  {
   "cell_type": "code",
   "execution_count": 1,
   "metadata": {},
   "outputs": [
    {
     "name": "stdout",
     "output_type": "stream",
     "text": [
      "{'xlist': [{'xcode': '10', 'xcgcd': '', 'xname': '본회의', 'xbill': '9700001', 'xbttn': '', 'xstat': '0', 'xthmb': '', 'xsubj': '', 'xdesc': '생중계 없음', 'xsami': '1', 'xqvod': '0', 'xlink': 'http://w3.assembly.go.kr/main/sub.do?menu=10', 'qlink': '', 'mc': '10', 'xxmc': '', 'xct1': '', 'xct2': '', 'xct3': '', 'xxno': ''}, {'xcode': '21', 'xcgcd': '', 'xname': '예결위', 'xbill': '9700049', 'xbttn': '', 'xstat': '0', 'xthmb': '', 'xsubj': '', 'xdesc': '생중계 없음', 'xsami': '1', 'xqvod': '0', 'xlink': 'http://w3.assembly.go.kr/main/sub.do?menu=21', 'qlink': '', 'mc': '21', 'xxmc': '', 'xct1': '', 'xct2': '', 'xct3': '', 'xxno': ''}, {'xcode': '24', 'xcgcd': '', 'xname': '운영위', 'xbill': '9700005', 'xbttn': '', 'xstat': '0', 'xthmb': '', 'xsubj': '', 'xdesc': '생중계 없음', 'xsami': '1', 'xqvod': '0', 'xlink': 'http://w3.assembly.go.kr/main/sub.do?menu=30&mc_param2=324&mc=324', 'qlink': '', 'mc': '324', 'xxmc': '', 'xct1': '', 'xct2': '', 'xct3': '', 'xxno': ''}, {'xcode': '25', 'xcgcd': '', 'xname': '법사위', 'xbill': '9700006', 'xbttn': '', 'xstat': '0', 'xthmb': '', 'xsubj': '', 'xdesc': '생중계 없음', 'xsami': '0', 'xqvod': '0', 'xlink': 'http://w3.assembly.go.kr/main/sub.do?menu=30&mc_param2=325&mc=325', 'qlink': '', 'mc': '325', 'xxmc': '', 'xct1': '', 'xct2': '', 'xct3': '', 'xxno': ''}, {'xcode': '26', 'xcgcd': '', 'xname': '정무위', 'xbill': '9700008', 'xbttn': '', 'xstat': '0', 'xthmb': '', 'xsubj': '', 'xdesc': '생중계 없음', 'xsami': '1', 'xqvod': '0', 'xlink': 'http://w3.assembly.go.kr/main/sub.do?menu=30&mc_param2=326&mc=326', 'qlink': '', 'mc': '326', 'xxmc': '', 'xct1': '', 'xct2': '', 'xct3': '', 'xxno': ''}, {'xcode': '38', 'xcgcd': '', 'xname': '기재위', 'xbill': '9700300', 'xbttn': '', 'xstat': '0', 'xthmb': '', 'xsubj': '', 'xdesc': '생중계 없음', 'xsami': '1', 'xqvod': '0', 'xlink': 'http://w3.assembly.go.kr/main/sub.do?menu=30&mc_param2=338&mc=338', 'qlink': '', 'mc': '338', 'xxmc': '', 'xct1': '', 'xct2': '', 'xct3': '', 'xxno': ''}, {'xcode': '58', 'xcgcd': 'DCM000058214070201', 'xname': '교육위', 'xbill': '9700512', 'xbttn': '개의', 'xstat': '1', 'xthmb': '//thumb.webcast.go.kr/api/thumbnail/gyoyuk', 'xsubj': '제407회 국회(임시회) 제02차 교육위원회 [14:00]', 'xdesc': '개의', 'xsami': '1', 'xqvod': '1', 'xlink': 'http://w3.assembly.go.kr/main/sub.do?menu=30&mc_param2=358&mc=358', 'qlink': 'http://w3.assembly.go.kr/main/player.do?ref=main&menu=&type=&wv=1&mc=358&ct1=21&ct2=407&ct3=02&no=570255', 'mc': '358', 'xxmc': '358', 'xct1': '21', 'xct2': '407', 'xct3': '02', 'xxno': '570255'}, {'xcode': '56', 'xcgcd': '', 'xname': '과방위', 'xbill': '9700479', 'xbttn': '', 'xstat': '0', 'xthmb': '', 'xsubj': '', 'xdesc': '생중계 없음', 'xsami': '1', 'xqvod': '0', 'xlink': 'http://w3.assembly.go.kr/main/sub.do?menu=30&mc_param2=356&mc=356', 'qlink': '', 'mc': '356', 'xxmc': '', 'xct1': '', 'xct2': '', 'xct3': '', 'xxno': ''}, {'xcode': '48', 'xcgcd': '', 'xname': '외통위', 'xbill': '9700409', 'xbttn': '', 'xstat': '0', 'xthmb': '', 'xsubj': '', 'xdesc': '생중계 없음', 'xsami': '1', 'xqvod': '0', 'xlink': 'http://w3.assembly.go.kr/main/sub.do?menu=30&mc_param2=348&mc=348', 'qlink': '', 'mc': '348', 'xxmc': '', 'xct1': '', 'xct2': '', 'xct3': '', 'xxno': ''}, {'xcode': '37', 'xcgcd': '', 'xname': '국방위', 'xbill': '9700019', 'xbttn': '', 'xstat': '0', 'xthmb': '', 'xsubj': '', 'xdesc': '생중계 없음', 'xsami': '1', 'xqvod': '0', 'xlink': 'http://w3.assembly.go.kr/main/sub.do?menu=30&mc_param2=337&mc=337', 'qlink': '', 'mc': '337', 'xxmc': '', 'xct1': '', 'xct2': '', 'xct3': '', 'xxno': ''}, {'xcode': '45', 'xcgcd': '', 'xname': '행안위', 'xbill': '9700480', 'xbttn': '', 'xstat': '0', 'xthmb': '', 'xsubj': '', 'xdesc': '생중계 없음', 'xsami': '0', 'xqvod': '0', 'xlink': 'http://w3.assembly.go.kr/main/sub.do?menu=30&mc_param2=345&mc=345', 'qlink': '', 'mc': '345', 'xxmc': '', 'xct1': '', 'xct2': '', 'xct3': '', 'xxno': ''}, {'xcode': '59', 'xcgcd': '', 'xname': '문체위', 'xbill': '9700513', 'xbttn': '', 'xstat': '0', 'xthmb': '', 'xsubj': '', 'xdesc': '생중계 없음', 'xsami': '1', 'xqvod': '0', 'xlink': 'http://w3.assembly.go.kr/main/sub.do?menu=30&mc_param2=359&mc=359', 'qlink': '', 'mc': '359', 'xxmc': '', 'xct1': '', 'xct2': '', 'xct3': '', 'xxno': ''}, {'xcode': '53', 'xcgcd': 'DCM000053214070201', 'xname': '농해수위', 'xbill': '9700408', 'xbttn': '산회', 'xstat': '0', 'xthmb': '//thumb.webcast.go.kr/api/thumbnail/nonghae', 'xsubj': '제407회 국회(임시회) 제02차 농림축산식품해양수산위원회 [10:00]', 'xdesc': '11:53 산회', 'xsami': '1', 'xqvod': '0', 'xlink': 'http://w3.assembly.go.kr/main/sub.do?menu=30&mc_param2=353&mc=353', 'qlink': '', 'mc': '353', 'xxmc': '353', 'xct1': '21', 'xct2': '407', 'xct3': '02', 'xxno': '570214'}, {'xcode': '55', 'xcgcd': '', 'xname': '산자중기위', 'xbill': '9700481', 'xbttn': '', 'xstat': '0', 'xthmb': '', 'xsubj': '', 'xdesc': '생중계 없음', 'xsami': '1', 'xqvod': '0', 'xlink': 'http://w3.assembly.go.kr/main/sub.do?menu=30&mc_param2=355&mc=355', 'qlink': '', 'mc': '355', 'xxmc': '', 'xct1': '', 'xct2': '', 'xct3': '', 'xxno': ''}, {'xcode': '33', 'xcgcd': '', 'xname': '복지위', 'xbill': '9700341', 'xbttn': '', 'xstat': '0', 'xthmb': '', 'xsubj': '', 'xdesc': '생중계 없음', 'xsami': '1', 'xqvod': '0', 'xlink': 'http://w3.assembly.go.kr/main/sub.do?menu=30&mc_param2=333&mc=333', 'qlink': '', 'mc': '333', 'xxmc': '', 'xct1': '', 'xct2': '', 'xct3': '', 'xxno': ''}, {'xcode': '34', 'xcgcd': 'DCM000034214070101', 'xname': '환노위', 'xbill': '9700038', 'xbttn': '개의', 'xstat': '1', 'xthmb': '//thumb.webcast.go.kr/api/thumbnail/bon', 'xsubj': '제407회 국회(임시회) 제01차 환경노동위원회 [15:00]', 'xdesc': '개의', 'xsami': '1', 'xqvod': '1', 'xlink': 'http://w3.assembly.go.kr/main/sub.do?menu=30&mc_param2=334&mc=334', 'qlink': 'http://w3.assembly.go.kr/main/player.do?ref=main&menu=&type=&wv=1&mc=334&ct1=21&ct2=407&ct3=01&no=570256', 'mc': '334', 'xxmc': '334', 'xct1': '21', 'xct2': '407', 'xct3': '01', 'xxno': '570256'}, {'xcode': '54', 'xcgcd': '', 'xname': '국토위', 'xbill': '9700407', 'xbttn': '', 'xstat': '0', 'xthmb': '', 'xsubj': '', 'xdesc': '생중계 없음', 'xsami': '0', 'xqvod': '0', 'xlink': 'http://w3.assembly.go.kr/main/sub.do?menu=30&mc_param2=354&mc=354', 'qlink': '', 'mc': '354', 'xxmc': '', 'xct1': '', 'xct2': '', 'xct3': '', 'xxno': ''}, {'xcode': '36', 'xcgcd': '', 'xname': '여가위', 'xbill': '9700342', 'xbttn': '', 'xstat': '0', 'xthmb': '', 'xsubj': '', 'xdesc': '생중계 없음', 'xsami': '0', 'xqvod': '0', 'xlink': 'http://w3.assembly.go.kr/main/sub.do?menu=30&mc_param2=336&mc=336', 'qlink': '', 'mc': '336', 'xxmc': '', 'xct1': '', 'xct2': '', 'xct3': '', 'xxno': ''}, {'xcode': '91', 'xcgcd': '', 'xname': '특별위', 'xbill': '', 'xstat': '', 'xthmb': '', 'xsubj': '', 'xdesc': '생중계 없음', 'xsami': '0', 'xqvod': '0', 'xlink': 'http://w3.assembly.go.kr/main/sub.do?menu=20', 'qlink': '', 'mc': '20', 'xxmc': '', 'xct1': '', 'xct2': '', 'xct3': '', 'xxno': ''}, {'xcode': '97', 'xcgcd': '', 'xname': '청문회/공청회', 'xbill': '', 'xbttn': '', 'xstat': '0', 'xthmb': '', 'xsubj': '', 'xdesc': '생중계 없음', 'xsami': '', 'xqvod': '0', 'xlink': 'http://w3.assembly.go.kr/main/sub.do?menu=97', 'qlink': '', 'mc': '', 'xxmc': '', 'xct1': '', 'xct2': '', 'xct3': '', 'xxno': ''}], 'qtime': '2023-06-27 15:42:13', 'fcnts': '19'}\n"
     ]
    }
   ],
   "source": [
    "import requests\n",
    "import json\n",
    "url = \"https://assembly.webcast.go.kr/main/service/live_list.asp\"\n",
    "response = requests.get(url)\n",
    "contents=response.text\n",
    "json_data=json.loads(contents)\n",
    "print(json_data)"
   ]
  },
  {
   "cell_type": "code",
   "execution_count": 5,
   "metadata": {},
   "outputs": [
    {
     "name": "stdout",
     "output_type": "stream",
     "text": [
      "wss://smiai.webcast.go.kr:8091/aistt/hwanno\n"
     ]
    }
   ],
   "source": [
    "import requests\n",
    "import json\n",
    "\n",
    "\n",
    "xcode = '34'\n",
    "xcgcd = 'DCM000034214070101'\n",
    "def gimme_xsami(xcode, xcgcd):\n",
    "    url =f'https://assembly.webcast.go.kr/main/service/live_play.asp?xcode={xcode}&xcgcd={xcgcd}'\n",
    "    response = requests.get(url)\n",
    "    contents = response.text\n",
    "    json_data = json.loads(contents)\n",
    "    xsami = json_data['xsami']\n",
    "    return xsami"
   ]
  }
 ],
 "metadata": {
  "kernelspec": {
   "display_name": "Python 3",
   "language": "python",
   "name": "python3"
  },
  "language_info": {
   "codemirror_mode": {
    "name": "ipython",
    "version": 3
   },
   "file_extension": ".py",
   "mimetype": "text/x-python",
   "name": "python",
   "nbconvert_exporter": "python",
   "pygments_lexer": "ipython3",
   "version": "3.11.2"
  },
  "orig_nbformat": 4
 },
 "nbformat": 4,
 "nbformat_minor": 2
}
