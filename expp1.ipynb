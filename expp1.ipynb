{
 "cells": [
  {
   "cell_type": "code",
   "execution_count": 14,
   "metadata": {},
   "outputs": [
    {
     "name": "stdout",
     "output_type": "stream",
     "text": [
      "{'xlist': [{'xcode': '10', 'xcgcd': 'DCM000010224180101', 'xname': '본회의', 'xbill': '9700001', 'xbttn': '개의', 'xstat': '1', 'xthmb': '//thumb.webcast.go.kr/api/thumbnail/bon', 'xsubj': '제22대 국회 개원식 겸 제418회 국회(정기회) 개회식[14:00]', 'xdesc': '개의', 'xsami': '1', 'xqvod': '0', 'xlink': 'http://w3.assembly.go.kr/main/sub.do?menu=10', 'qlink': '', 'mc': '10', 'xxmc': '10', 'xct1': '22', 'xct2': '418', 'xct3': '01', 'xxno': ''}, {'xcode': '21', 'xcgcd': 'DCM000021224180101', 'xname': '예결위', 'xbill': '9700049', 'xbttn': '정회', 'xstat': '0', 'xthmb': '//thumb.webcast.go.kr/api/thumbnail/yegyeol', 'xsubj': '제418회 국회(정기회) 제01차 예산결산특별위원회 [10:00]', 'xdesc': '정회', 'xsami': '0', 'xqvod': '1', 'xlink': 'http://w3.assembly.go.kr/main/sub.do?menu=21', 'qlink': 'http://w3.assembly.go.kr/main/player.do?ref=main&menu=&type=&wv=1&mc=21&ct1=22&ct2=418&ct3=01&no=602075', 'mc': '21', 'xxmc': '21', 'xct1': '22', 'xct2': '418', 'xct3': '01', 'xxno': '602075'}, {'xcode': '24', 'xcgcd': '', 'xname': '운영위', 'xbill': '9700005', 'xbttn': '', 'xstat': '0', 'xthmb': '', 'xsubj': '', 'xdesc': '생중계 없음', 'xsami': '1', 'xqvod': '0', 'xlink': 'http://w3.assembly.go.kr/main/sub.do?menu=30&mc_param2=324&mc=324', 'qlink': '', 'mc': '324', 'xxmc': '', 'xct1': '', 'xct2': '', 'xct3': '', 'xxno': ''}, {'xcode': '25', 'xcgcd': '', 'xname': '법사위', 'xbill': '9700006', 'xbttn': '', 'xstat': '0', 'xthmb': '', 'xsubj': '', 'xdesc': '생중계 없음', 'xsami': '1', 'xqvod': '0', 'xlink': 'http://w3.assembly.go.kr/main/sub.do?menu=30&mc_param2=325&mc=325', 'qlink': '', 'mc': '325', 'xxmc': '', 'xct1': '', 'xct2': '', 'xct3': '', 'xxno': ''}, {'xcode': '26', 'xcgcd': '', 'xname': '정무위', 'xbill': '9700008', 'xbttn': '', 'xstat': '0', 'xthmb': '', 'xsubj': '', 'xdesc': '생중계 없음', 'xsami': '1', 'xqvod': '0', 'xlink': 'http://w3.assembly.go.kr/main/sub.do?menu=30&mc_param2=326&mc=326', 'qlink': '', 'mc': '326', 'xxmc': '', 'xct1': '', 'xct2': '', 'xct3': '', 'xxno': ''}, {'xcode': '38', 'xcgcd': '', 'xname': '기재위', 'xbill': '9700300', 'xbttn': '', 'xstat': '0', 'xthmb': '', 'xsubj': '', 'xdesc': '생중계 없음', 'xsami': '1', 'xqvod': '0', 'xlink': 'http://w3.assembly.go.kr/main/sub.do?menu=30&mc_param2=338&mc=338', 'qlink': '', 'mc': '338', 'xxmc': '', 'xct1': '', 'xct2': '', 'xct3': '', 'xxno': ''}, {'xcode': '58', 'xcgcd': '', 'xname': '교육위', 'xbill': '9700512', 'xbttn': '', 'xstat': '0', 'xthmb': '', 'xsubj': '', 'xdesc': '생중계 없음', 'xsami': '1', 'xqvod': '0', 'xlink': 'http://w3.assembly.go.kr/main/sub.do?menu=30&mc_param2=358&mc=358', 'qlink': '', 'mc': '358', 'xxmc': '', 'xct1': '', 'xct2': '', 'xct3': '', 'xxno': ''}, {'xcode': '56', 'xcgcd': '', 'xname': '과방위', 'xbill': '9700479', 'xbttn': '', 'xstat': '0', 'xthmb': '', 'xsubj': '', 'xdesc': '생중계 없음', 'xsami': '1', 'xqvod': '0', 'xlink': 'http://w3.assembly.go.kr/main/sub.do?menu=30&mc_param2=356&mc=356', 'qlink': '', 'mc': '356', 'xxmc': '', 'xct1': '', 'xct2': '', 'xct3': '', 'xxno': ''}, {'xcode': '48', 'xcgcd': '', 'xname': '외통위', 'xbill': '9700409', 'xbttn': '', 'xstat': '0', 'xthmb': '', 'xsubj': '', 'xdesc': '생중계 없음', 'xsami': '1', 'xqvod': '0', 'xlink': 'http://w3.assembly.go.kr/main/sub.do?menu=30&mc_param2=348&mc=348', 'qlink': '', 'mc': '348', 'xxmc': '', 'xct1': '', 'xct2': '', 'xct3': '', 'xxno': ''}, {'xcode': '37', 'xcgcd': 'DCM000037224180101', 'xname': '국방위', 'xbill': '9700019', 'xbttn': '정회', 'xstat': '0', 'xthmb': '//thumb.webcast.go.kr/api/thumbnail/gukbang', 'xsubj': '제418회 국회(정기회) 제01차 국방위원회 [10:00]', 'xdesc': '정회', 'xsami': '1', 'xqvod': '0', 'xlink': 'http://w3.assembly.go.kr/main/sub.do?menu=30&mc_param2=337&mc=337', 'qlink': '', 'mc': '337', 'xxmc': '337', 'xct1': '22', 'xct2': '418', 'xct3': '01', 'xxno': '602074'}, {'xcode': '45', 'xcgcd': 'DCM000045224180101', 'xname': '행안위', 'xbill': '9700480', 'xbttn': '정회', 'xstat': '0', 'xthmb': '//thumb.webcast.go.kr/api/thumbnail/haengan', 'xsubj': '제418회 국회(정기회) 제01차 행정안전위원회 [10:00]', 'xdesc': '정회', 'xsami': '1', 'xqvod': '0', 'xlink': 'http://w3.assembly.go.kr/main/sub.do?menu=30&mc_param2=345&mc=345', 'qlink': '', 'mc': '345', 'xxmc': '345', 'xct1': '22', 'xct2': '418', 'xct3': '01', 'xxno': '602076'}, {'xcode': '59', 'xcgcd': '', 'xname': '문체위', 'xbill': '9700513', 'xbttn': '', 'xstat': '0', 'xthmb': '', 'xsubj': '', 'xdesc': '생중계 없음', 'xsami': '1', 'xqvod': '0', 'xlink': 'http://w3.assembly.go.kr/main/sub.do?menu=30&mc_param2=359&mc=359', 'qlink': '', 'mc': '359', 'xxmc': '', 'xct1': '', 'xct2': '', 'xct3': '', 'xxno': ''}, {'xcode': '53', 'xcgcd': '', 'xname': '농해수위', 'xbill': '9700408', 'xbttn': '', 'xstat': '0', 'xthmb': '', 'xsubj': '', 'xdesc': '생중계 없음', 'xsami': '1', 'xqvod': '0', 'xlink': 'http://w3.assembly.go.kr/main/sub.do?menu=30&mc_param2=353&mc=353', 'qlink': '', 'mc': '353', 'xxmc': '', 'xct1': '', 'xct2': '', 'xct3': '', 'xxno': ''}, {'xcode': '55', 'xcgcd': '', 'xname': '산자중기위', 'xbill': '9700481', 'xbttn': '', 'xstat': '0', 'xthmb': '', 'xsubj': '', 'xdesc': '생중계 없음', 'xsami': '1', 'xqvod': '0', 'xlink': 'http://w3.assembly.go.kr/main/sub.do?menu=30&mc_param2=355&mc=355', 'qlink': '', 'mc': '355', 'xxmc': '', 'xct1': '', 'xct2': '', 'xct3': '', 'xxno': ''}, {'xcode': '33', 'xcgcd': '', 'xname': '복지위', 'xbill': '9700341', 'xbttn': '', 'xstat': '0', 'xthmb': '', 'xsubj': '', 'xdesc': '생중계 없음', 'xsami': '1', 'xqvod': '0', 'xlink': 'http://w3.assembly.go.kr/main/sub.do?menu=30&mc_param2=333&mc=333', 'qlink': '', 'mc': '333', 'xxmc': '', 'xct1': '', 'xct2': '', 'xct3': '', 'xxno': ''}, {'xcode': '34', 'xcgcd': '', 'xname': '환노위', 'xbill': '9700038', 'xbttn': '', 'xstat': '0', 'xthmb': '', 'xsubj': '', 'xdesc': '생중계 없음', 'xsami': '1', 'xqvod': '0', 'xlink': 'http://w3.assembly.go.kr/main/sub.do?menu=30&mc_param2=334&mc=334', 'qlink': '', 'mc': '334', 'xxmc': '', 'xct1': '', 'xct2': '', 'xct3': '', 'xxno': ''}, {'xcode': '54', 'xcgcd': '', 'xname': '국토위', 'xbill': '9700407', 'xbttn': '', 'xstat': '0', 'xthmb': '', 'xsubj': '', 'xdesc': '생중계 없음', 'xsami': '1', 'xqvod': '0', 'xlink': 'http://w3.assembly.go.kr/main/sub.do?menu=30&mc_param2=354&mc=354', 'qlink': '', 'mc': '354', 'xxmc': '', 'xct1': '', 'xct2': '', 'xct3': '', 'xxno': ''}, {'xcode': '14', 'xcgcd': '', 'xname': '정보위', 'xbill': '9700047', 'xbttn': '', 'xstat': '0', 'xthmb': '', 'xsubj': '', 'xdesc': '생중계 없음', 'xsami': '1', 'xqvod': '0', 'xlink': 'http://w3.assembly.go.kr/main/sub.do?menu=30&mc_param2=314&mc=314', 'qlink': '', 'mc': '314', 'xxmc': '', 'xct1': '', 'xct2': '', 'xct3': '', 'xxno': ''}, {'xcode': '36', 'xcgcd': '', 'xname': '여가위', 'xbill': '9700342', 'xbttn': '', 'xstat': '0', 'xthmb': '', 'xsubj': '', 'xdesc': '생중계 없음', 'xsami': '1', 'xqvod': '0', 'xlink': 'http://w3.assembly.go.kr/main/sub.do?menu=30&mc_param2=336&mc=336', 'qlink': '', 'mc': '336', 'xxmc': '', 'xct1': '', 'xct2': '', 'xct3': '', 'xxno': ''}, {'xcode': '91', 'xcgcd': '', 'xname': '특별위', 'xbill': '', 'xstat': '', 'xthmb': '', 'xsubj': '', 'xdesc': '생중계 없음', 'xsami': '0', 'xqvod': '0', 'xlink': 'http://w3.assembly.go.kr/main/sub.do?menu=20', 'qlink': '', 'mc': '20', 'xxmc': '', 'xct1': '', 'xct2': '', 'xct3': '', 'xxno': ''}], 'qtime': '2024-09-02 14:06:31', 'fcnts': '20'}\n"
     ]
    }
   ],
   "source": [
    "import requests\n",
    "import json\n",
    "url = \"https://assembly.webcast.go.kr/main/service/live_list.asp\"\n",
    "response = requests.get(url)\n",
    "contents=response.text\n",
    "json_data=json.loads(contents)\n",
    "print(json_data)"
   ]
  },
  {
   "cell_type": "code",
   "execution_count": 5,
   "metadata": {},
   "outputs": [
    {
     "name": "stdout",
     "output_type": "stream",
     "text": [
      "wss://smiai.webcast.go.kr:8091/aistt/hwanno\n"
     ]
    }
   ],
   "source": [
    "import requests\n",
    "import json\n",
    "\n",
    "\n",
    "xcode = '34'\n",
    "xcgcd = 'DCM000034214070101'\n",
    "def gimme_xsami(xcode, xcgcd):\n",
    "    url =f'https://assembly.webcast.go.kr/main/service/live_play.asp?xcode={xcode}&xcgcd={xcgcd}'\n",
    "    response = requests.get(url)\n",
    "    contents = response.text\n",
    "    json_data = json.loads(contents)\n",
    "    xsami = json_data['xsami']\n",
    "    return xsami"
   ]
  },
  {
   "cell_type": "code",
   "execution_count": null,
   "metadata": {},
   "outputs": [],
   "source": []
  },
  {
   "cell_type": "code",
   "execution_count": 10,
   "metadata": {},
   "outputs": [
    {
     "name": "stdout",
     "output_type": "stream",
     "text": [
      "2024-09-24 13:43:46.535546\n"
     ]
    },
    {
     "data": {
      "text/plain": [
       "'24-09-24 13:43:46'"
      ]
     },
     "execution_count": 10,
     "metadata": {},
     "output_type": "execute_result"
    }
   ],
   "source": [
    "from datetime import datetime \n",
    "\n",
    "today0 = datetime.now()\n",
    "print(today0)\n",
    "\n",
    "datetime.strftime(today0, '%y-%m-%d %H:%M:%S')"
   ]
  },
  {
   "cell_type": "code",
   "execution_count": null,
   "metadata": {},
   "outputs": [],
   "source": []
  },
  {
   "cell_type": "code",
   "execution_count": 1,
   "metadata": {},
   "outputs": [],
   "source": [
    "import mysql.connector\n",
    "\n",
    "config = {\n",
    "    'user' : 'root',\n",
    "    'password': 'donga123123!',\n",
    "    'host':'localhost',\n",
    "    # 'database':'shit',\n",
    "    'port':'3306'\n",
    "}\n",
    "\n",
    "db = mysql.connector.connect(**config)\n",
    "cursor = db.cursor()\n",
    "\n"
   ]
  },
  {
   "cell_type": "code",
   "execution_count": 8,
   "metadata": {},
   "outputs": [],
   "source": [
    "cursor.execute('show databases;')\n"
   ]
  },
  {
   "cell_type": "code",
   "execution_count": 9,
   "metadata": {},
   "outputs": [
    {
     "data": {
      "text/plain": [
       "[('gookhwe_stuffs',),\n",
       " ('information_schema',),\n",
       " ('mysql',),\n",
       " ('performance_schema',),\n",
       " ('sys',)]"
      ]
     },
     "execution_count": 9,
     "metadata": {},
     "output_type": "execute_result"
    }
   ],
   "source": [
    "cursor.fetchall()"
   ]
  },
  {
   "cell_type": "code",
   "execution_count": 2,
   "metadata": {},
   "outputs": [
    {
     "data": {
      "text/plain": [
       "[(datetime.date(2024, 9, 2),\n",
       "  '20240902_10',\n",
       "  '10',\n",
       "  '1',\n",
       "  '본회의',\n",
       "  '개의',\n",
       "  'DCM000010224180101',\n",
       "  '제22대 국회 개원식 겸 제418회 국회(정기회) 개회식[14:00]',\n",
       "  '//thumb.webcast.go.kr/api/thumbnail/bon',\n",
       "  'wss://smi.webcast.go.kr/10',\n",
       "  None,\n",
       "  None),\n",
       " (datetime.date(2024, 9, 2),\n",
       "  '20240902_37',\n",
       "  '37',\n",
       "  '0',\n",
       "  '국방위',\n",
       "  '정회',\n",
       "  'DCM000037224180101',\n",
       "  '제418회 국회(정기회) 제01차 국방위원회 [10:00]',\n",
       "  '//thumb.webcast.go.kr/api/thumbnail/gukbang',\n",
       "  'wss://smiai.webcast.go.kr:8091/aistt/gukbang',\n",
       "  None,\n",
       "  None),\n",
       " (datetime.date(2024, 9, 2),\n",
       "  '20240902_45',\n",
       "  '45',\n",
       "  '0',\n",
       "  '행안위',\n",
       "  '정회',\n",
       "  'DCM000045224180101',\n",
       "  '제418회 국회(정기회) 제01차 행정안전위원회 [10:00]',\n",
       "  '//thumb.webcast.go.kr/api/thumbnail/haengan',\n",
       "  'wss://smiai.webcast.go.kr:8091/aistt/haengan',\n",
       "  None,\n",
       "  None)]"
      ]
     },
     "execution_count": 2,
     "metadata": {},
     "output_type": "execute_result"
    }
   ],
   "source": [
    "cursor.execute(\"select * from gookhwe_stuffs.live_list\")\n",
    "cursor.fetchall()"
   ]
  },
  {
   "cell_type": "code",
   "execution_count": 5,
   "metadata": {},
   "outputs": [
    {
     "data": {
      "text/plain": [
       "[(None, '본회의', '제22대 국회 개원식 겸 제418회 국회(정기회) 개회식[14:00]', '개의')]"
      ]
     },
     "execution_count": 5,
     "metadata": {},
     "output_type": "execute_result"
    }
   ],
   "source": [
    "cursor.execute(\n",
    "    f\"\"\"\n",
    "    select content, xname, xsubj, xdesc from gookhwe_stuffs.live_list where xcode='10'\n",
    "    \"\"\"\n",
    "    # and good = 1\n",
    ")\n",
    "cursor.fetchall()"
   ]
  },
  {
   "cell_type": "code",
   "execution_count": null,
   "metadata": {},
   "outputs": [],
   "source": [
    "from datetime import date, datetime, timedelta\n",
    "now0 = datetime.now() - timedelta(hours=5)  \n",
    "print(now0)\n",
    "now0 = now0.date()"
   ]
  }
 ],
 "metadata": {
  "kernelspec": {
   "display_name": "Python 3",
   "language": "python",
   "name": "python3"
  },
  "language_info": {
   "codemirror_mode": {
    "name": "ipython",
    "version": 3
   },
   "file_extension": ".py",
   "mimetype": "text/x-python",
   "name": "python",
   "nbconvert_exporter": "python",
   "pygments_lexer": "ipython3",
   "version": "3.11.7"
  },
  "orig_nbformat": 4
 },
 "nbformat": 4,
 "nbformat_minor": 2
}
